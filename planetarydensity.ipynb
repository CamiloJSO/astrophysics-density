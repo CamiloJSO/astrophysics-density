{
  "nbformat": 4,
  "nbformat_minor": 0,
  "metadata": {
    "colab": {
      "provenance": []
    },
    "kernelspec": {
      "name": "python3",
      "display_name": "Python 3"
    },
    "language_info": {
      "name": "python"
    }
  },
  "cells": [
    {
      "cell_type": "markdown",
      "source": [
        "**Código realizado por:**\\\n",
        "Camilo José Sierra Otero\\"
      ],
      "metadata": {
        "id": "R9ZlYYys8Wuo"
      }
    },
    {
      "cell_type": "markdown",
      "source": [
        "# Punto 1\n",
        "Cálculo de la densidad"
      ],
      "metadata": {
        "id": "Z6Qo5WVd0KKL"
      }
    },
    {
      "cell_type": "code",
      "execution_count": null,
      "metadata": {
        "id": "uKa6L8kG-32n"
      },
      "outputs": [],
      "source": [
        "import numpy as np\n",
        "import matplotlib.pyplot as plt\n",
        "\n",
        "def f_densidad(r,rho_0): #Función que permite calcular la densidad de un planeta\n",
        "\n",
        "# Constantes planetarias de Júpiter necesarias para la función.\n",
        "\n",
        "  a=69173000\n",
        "  Rc=0.15*69173000 # (m)\n",
        "  rho_c=10000\n",
        "\n",
        "  densidad = np.where(r<=Rc,rho_c,(rho_0*(1-((r/a)**2)))) # En esta sección se hace uso de la función que permite calcular la densidad.\n",
        "  return densidad"
      ]
    },
    {
      "cell_type": "code",
      "source": [
        "step = 50   # numero de pasos de la función (a/step * n)\n",
        "datos = np.zeros(step)\n",
        "a = 69173000 # Radio final del calculo (m)\n",
        "\n",
        "for i,j in enumerate(np.linspace(0,a,step)): # Función que permite calcular la densidad en función del radio tomando en cuenta el step.\n",
        "  datos[i] = f_densidad(j,3000)"
      ],
      "metadata": {
        "id": "Z-5fEPjtB7fQ"
      },
      "execution_count": null,
      "outputs": []
    },
    {
      "cell_type": "code",
      "source": [
        "# Graficar el radio vs la densidad de Júpiter\n",
        "\n",
        "fig,ax=plt.subplots()\n",
        "\n",
        "ax.plot(np.linspace(0,69173,step),datos/1000, color = 'green')\n",
        "ax.set_xlabel(\"Radio [km]\")\n",
        "ax.set_ylabel(r\"$\\rho$ [g/cm$^3$]\")\n",
        "ax.set_title(\"Radio  vs Densidad\")"
      ],
      "metadata": {
        "colab": {
          "base_uri": "https://localhost:8080/",
          "height": 489
        },
        "id": "Ugoxx7TeCAGL",
        "outputId": "d6c15141-6ceb-489f-bcde-4e117fb57f08"
      },
      "execution_count": null,
      "outputs": [
        {
          "output_type": "execute_result",
          "data": {
            "text/plain": [
              "Text(0.5, 1.0, 'Radio  vs Densidad')"
            ]
          },
          "metadata": {},
          "execution_count": 66
        },
        {
          "output_type": "display_data",
          "data": {
            "text/plain": [
              "<Figure size 640x480 with 1 Axes>"
            ],
            "image/png": "[encoded data removed]"
          },
          "metadata": {}
        }
      ]
    },
    {
      "cell_type": "markdown",
      "source": [
        "## Punto 2\n",
        "Cálculo de la masa a partir de la densidad"
      ],
      "metadata": {
        "id": "iYiEgq2SNp21"
      }
    },
    {
      "cell_type": "code",
      "source": [
        "# Utilizando la librería Scypy para realizar la integral y obtener la masa:\n",
        "from scipy.integrate import quad\n",
        "\n",
        "def integral(r): # Integrando en función del radio r de Júpiter.\n",
        "  integrando = 4*np.pi*r**2*f_densidad(r,3000)\n",
        "  return integrando\n",
        "\n",
        "int_masa = quad(integral, 0, a) # Integral para determinar la masa usando la función quad (no es necesario definir error\n",
        "                                # relativo ya que el por defecto es de 1.49e-8).\n",
        "print(f'La masa de Júpiter obtenida con una densidad en la base del manto de 3000 kg/m3 es de: {int_masa[0]:.3e} kg')"
      ],
      "metadata": {
        "colab": {
          "base_uri": "https://localhost:8080/"
        },
        "id": "Nyz1dJyRMt7T",
        "outputId": "bc90d9a7-6bc8-4e7a-9c4e-35063c7d247a"
      },
      "execution_count": null,
      "outputs": [
        {
          "output_type": "stream",
          "name": "stdout",
          "text": [
            "La masa de Júpiter obtenida con una densidad en la base del manto de 3000 kg/m3 es de: 1.697e+27 kg\n"
          ]
        }
      ]
    },
    {
      "cell_type": "code",
      "source": [
        "# Al comparar los valores obtenidos de la masa de Júpiter obtenida con una densidad en la base del manto\n",
        "# de 3000 kg/m3, nos podemos percatar que el valor está ampliamente desfasado de la magnitud real (1898e24)\n",
        "# por lo cual variaremos la densidad del manto hasta obtener un valor aproximado.\n",
        "\n",
        "def integral(r): # Integrando en función del radio r de Júpiter.\n",
        "  integrando = 4*np.pi*r**2*f_densidad(r,3367)\n",
        "  return integrando\n",
        "\n",
        "int_masa = quad(integral, 0, a)\n",
        "\n",
        "print(f'La masa de Júpiter obtenida con una densidad en la base del manto de 3367 kg/m3 es de: {int_masa[0]:.3e} kg')"
      ],
      "metadata": {
        "colab": {
          "base_uri": "https://localhost:8080/"
        },
        "id": "JbAjV-2NUnnv",
        "outputId": "f867fe43-8398-4996-f109-a72ccfcd8496"
      },
      "execution_count": null,
      "outputs": [
        {
          "output_type": "stream",
          "name": "stdout",
          "text": [
            "La masa de Júpiter obtenida con una densidad en la base del manto de 3367 kg/m3 es de: 1.898e+27 kg\n"
          ]
        }
      ]
    },
    {
      "cell_type": "markdown",
      "source": [
        "# Punto 3\n",
        "Efectos de achatamiento producto de la rotación de planetas"
      ],
      "metadata": {
        "id": "j7Boxc30Z0Pm"
      }
    },
    {
      "cell_type": "code",
      "source": [
        "# Para realizar el presente punto se requiere del módulo legendre de la librería Scipy\n",
        "from scipy.special import legendre\n",
        "\n",
        "def R(theta): # Función que permite determinar la distancia desde el centro hasta un punto de la superficie\n",
        "              # en base a la colatitud (theta).\n",
        "\n",
        "  a = 69173000\n",
        "  h_0 = 4638000\n",
        "  R_theta = a*(1-((2/3)*(h_0/a)*legendre(2)(np.cos(np.radians(theta)))))\n",
        "  return R_theta\n",
        "\n",
        "# Obtención de resultados\n",
        "step = 1\n",
        "theta_max = 180 # El valor máximo de colatitud aceptada (180 equivale hasta el polo sur de Júpiter).\n",
        "resultados = np.zeros(theta_max)\n",
        "\n",
        "for i,j in enumerate(np.arange(0,theta_max,step)): # Esta función permite ángulos con un step de 1º.\n",
        "  resultados[i] = R(j)"
      ],
      "metadata": {
        "id": "ZF5q82yBXw_B"
      },
      "execution_count": null,
      "outputs": []
    },
    {
      "cell_type": "code",
      "source": [
        "# Gráfico Colatitud (theta) vs R\n",
        "\n",
        "fig,ax=plt.subplots()\n",
        "\n",
        "ax.plot(np.arange(0,180,step),resultados/1000)\n",
        "ax.set_xlabel(\"theta [$\\degree$]\")\n",
        "ax.set_ylabel(r\"$R$ [km]\")\n",
        "ax.set_title(\"Colatitud vs R\")"
      ],
      "metadata": {
        "colab": {
          "base_uri": "https://localhost:8080/",
          "height": 491
        },
        "id": "KhoJ8Jmud19H",
        "outputId": "c6eca588-39c0-49d9-cfc2-7abdd01212f8"
      },
      "execution_count": null,
      "outputs": [
        {
          "output_type": "execute_result",
          "data": {
            "text/plain": [
              "Text(0.5, 1.0, 'Colatitud vs R')"
            ]
          },
          "metadata": {},
          "execution_count": 119
        },
        {
          "output_type": "display_data",
          "data": {
            "text/plain": [
              "<Figure size 640x480 with 1 Axes>"
            ],
            "image/png": "[encoded data removed]"
          },
          "metadata": {}
        }
      ]
    },
    {
      "cell_type": "markdown",
      "source": [
        "# Punto 4\n",
        "Integral de momentos gravitacionales\n",
        "\n"
      ],
      "metadata": {
        "id": "xjxuIWLDm940"
      }
    },
    {
      "cell_type": "markdown",
      "source": [
        "Al considerar el planeta como una esfera completamente simetrica, el problema se puede simplificar en convertir la integral simple a una integral doble sobre un sistema de coordenadas esfericas dependiente de las variables θ y r donde la otra variable (ϕ en coordenadas esféricas) permanecerá como termino dependiente de las demás variables.\n",
        "\n",
        "  $$\n",
        "  J_{2 \\ell}=-\\frac{2\\pi}{M a^{2 \\ell}} \\int_0^\\pi  \\int_0^{R(\\theta)} r'^{2 \\ell+2} P_{2 \\ell}\\left(\\cos \\theta^{\\prime}\\right)\\sin\\theta\\;\\rho\\left(r^{\\prime}\\right) \\;\\mathrm{d}r\\;\\mathrm{d}\\theta\n",
        "  $$\n",
        "\n",
        "La integral puede ser simplificada al asumir una forma completamente esférica, por lo cual la densidad estará exlusivamente limitada en función del radio y no de un ángulo θ y tal y como vimos anteriormente con la función del elipse oblato que ya fue descrita en el numeral previo. Para este caso los valores de a y $h_0$ estan fijos  siendo dependiente unicamente de la variacion de $\\theta$, ergo, si introduciomos la variable  $\\mu=\\cos\\theta$ entonces la funcion del elipse oblato puede ser escrita como:\n",
        "\n",
        "  $$\n",
        "  R(\\theta) = a \\left[1 - \\frac{2}{3}\\frac{h_0}{a} P_2(\\mu)\\right]\n",
        "  $$\n",
        "\n",
        "Además, despejando el diferencial:\n",
        "\n",
        "$$\n",
        "\\mathrm{d}\\mu = -sin(\\theta)\\mathrm{d}\\theta\n",
        "$$\n",
        "$$\n",
        "\\mathrm{d}\\theta = -\\frac{\\mathrm{d}\\mu}{sin(\\theta)}\n",
        "$$\n",
        "\n",
        "Es posible reescribir la expresión de R en términos de μ como:\n",
        "\n",
        "  $$\n",
        "  R(\\theta) = a \\left[1 - \\frac{2}{3}\\frac{h_0}{a} P_2(\\mu)\\right]\n",
        "  $$\n",
        "\n",
        "Evaluando los límites cuando μ es igual a cosθ, determinamos que la integral va de +1 a -1, pero por propiedades de las integrales, al estar multiplicada por un signo negativo producto del cambio de variable, es posible invertir el orden de los límites de forma que la primera integral oscila de -1 a 1 de forma que:\n",
        "\n",
        "$$\n",
        "\\int_{1}^{-1}\\int_0^{R(\\mu)} f(x) = - \\int_{-1}^{1}\\int_0^{R(\\mu)} f(x)\n",
        "$$\n",
        "\n",
        "Finalmente la integral haciendo el cambio de variable y la sustitución de los límites, puede ser expresada como:\n",
        "\n",
        "  $$\n",
        "  J_{2 \\ell}=-\\frac{2\\pi}{M a^{2 \\ell}} \\int_{-1}^{+1}  \\int_0^{R(\\mu)} r'^{2 \\ell+2} P_{2 \\ell}(\\mu)\\rho\\left(r^{\\prime}\\right) \\;\\mathrm{d}r\\;\\mathrm{d}\\mu\n",
        "  $$"
      ],
      "metadata": {
        "id": "ndodW4oU0RHP"
      }
    },
    {
      "cell_type": "markdown",
      "source": [
        "# Punto 6\n",
        "Variación de parámetros\n"
      ],
      "metadata": {
        "id": "tg9BqAI4nKvz"
      }
    },
    {
      "cell_type": "code",
      "source": [
        "# PRIMER CASO\n",
        "\n",
        "def f_densidad(r,rho_0,rho_c):\n",
        "\n",
        "# Constantes planetarias de Júpiter necesarias para la función.\n",
        "\n",
        "  a=69173000\n",
        "  Rc=0.15*69173000 # (m)\n",
        "\n",
        "  densidad = np.where(r<=Rc,rho_c,(rho_0*(1-((r/a)**2))))\n",
        "  return densidad\n",
        "\n",
        "################################################################\n",
        "\n",
        "def integral(r): # Integrando en función del radio r de Júpiter.\n",
        "  integrando = 4*np.pi*r**2*f_densidad(r,2600,100000)\n",
        "  return integrando\n",
        "\n",
        "int_masa = quad(integral, 0, a)\n",
        "\n",
        "print(f'La masa de Júpiter obtenida con una densidad pc de 100000 kg/m3 y una densidad de manto de 2600 kg/m3 es de: {int_masa[0]:.3e} kg')"
      ],
      "metadata": {
        "colab": {
          "base_uri": "https://localhost:8080/"
        },
        "id": "CpKgjSK0fDba",
        "outputId": "a09c5d3e-ffc2-4499-dc24-1fd6156fe819"
      },
      "execution_count": null,
      "outputs": [
        {
          "output_type": "stream",
          "name": "stdout",
          "text": [
            "La masa de Júpiter obtenida con una densidad pc de 100000 kg/m3 y una densidad de manto de 2600 kg/m3 es de: 1.898e+27 kg\n"
          ]
        }
      ]
    },
    {
      "cell_type": "code",
      "source": [
        "# SEGUNDO CASO\n",
        "\n",
        "def f_densidad(r,rho_0,rho_c):\n",
        "\n",
        "# Constantes planetarias de Júpiter necesarias para la función.\n",
        "\n",
        "  a=69173000\n",
        "  Rc=0.15*69173000 # (m)\n",
        "\n",
        "  densidad = np.where(r<=Rc,rho_c,(rho_0*(1-((r/a)**2))))\n",
        "  return densidad\n",
        "\n",
        "################################################################\n",
        "\n",
        "def integral(r): # Integrando en función del radio r de Júpiter.\n",
        "  integrando = 4*np.pi*r**2*f_densidad(r,3440,1500)\n",
        "  return integrando\n",
        "\n",
        "int_masa = quad(integral, 0, a)\n",
        "\n",
        "print(f'La masa de Júpiter obtenida con una densidad pc de 1500 kg/m3 y una densidad de manto de 3440 kg/m3 es de: {int_masa[0]:.3e} kg')"
      ],
      "metadata": {
        "colab": {
          "base_uri": "https://localhost:8080/"
        },
        "id": "hVQDk7J39-Aj",
        "outputId": "8e2e4ba1-4a2e-495e-a70d-e13cfce2a807"
      },
      "execution_count": null,
      "outputs": [
        {
          "output_type": "stream",
          "name": "stdout",
          "text": [
            "La masa de Júpiter obtenida con una densidad pc de 1500 kg/m3 y una densidad de manto de 3440 kg/m3 es de: 1.899e+27 kg\n"
          ]
        }
      ]
    },
    {
      "cell_type": "code",
      "source": [],
      "metadata": {
        "id": "4JdORDr4-A1_"
      },
      "execution_count": null,
      "outputs": []
    }
  ]
}